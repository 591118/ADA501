{
 "cells": [
  {
   "cell_type": "markdown",
   "metadata": {},
   "source": [
    "Oppgave 2 - exercise 1 - 22.august"
   ]
  },
  {
   "cell_type": "markdown",
   "metadata": {},
   "source": [
    "Midpoint rule, trapezodial rule - CHATGPT"
   ]
  },
  {
   "cell_type": "code",
   "execution_count": 7,
   "metadata": {},
   "outputs": [],
   "source": [
    "def midpoint_rule(f, a, b, N):\n",
    "    h = (b - a) / N\n",
    "    integral = 0\n",
    "    for k in range(N):\n",
    "        x_k = a + (k + 0.5) * h\n",
    "        integral += f(x_k) * h\n",
    "    return integral\n",
    "\n",
    "def trapezoidal_rule(f, a, b, N):\n",
    "    h = (b - a) / N\n",
    "    integral = 0.5 * (f(a) + f(b))\n",
    "    for k in range(1, N):\n",
    "        x_k = a + k * h\n",
    "        integral += f(x_k)\n",
    "    integral *= h\n",
    "    return integral\n"
   ]
  },
  {
   "cell_type": "markdown",
   "metadata": {},
   "source": [
    "Interval [a,b] og subintervall i metodene"
   ]
  },
  {
   "cell_type": "code",
   "execution_count": 9,
   "metadata": {},
   "outputs": [
    {
     "name": "stdout",
     "output_type": "stream",
     "text": [
      "Approximation using Midpoint Rule: 30.33333333332536\n",
      "Approximation using Trapezoidal Rule: 30.333333333349902\n"
     ]
    }
   ],
   "source": [
    "# Define the function you want to integrate\n",
    "def f(x):\n",
    "    return x**2 + 6*x  + 9# Example function: x^2\n",
    "\n",
    "# Define the interval [a, b] and the number of subintervals N\n",
    "a = 2\n",
    "b = 3\n",
    "N = 100000  # Number of subintervals\n",
    "\n",
    "# Compute the approximations using both methods\n",
    "approx_midpoint = midpoint_rule(f, a, b, N)\n",
    "approx_trapezoidal = trapezoidal_rule(f, a, b, N)\n",
    "\n",
    "print(\"Approximation using Midpoint Rule:\", approx_midpoint)\n",
    "print(\"Approximation using Trapezoidal Rule:\", approx_trapezoidal)\n"
   ]
  },
  {
   "cell_type": "markdown",
   "metadata": {},
   "source": [
    "a ->    forventer at Trapezodial rule å gi bedre svar"
   ]
  },
  {
   "cell_type": "code",
   "execution_count": null,
   "metadata": {},
   "outputs": [],
   "source": []
  }
 ],
 "metadata": {
  "kernelspec": {
   "display_name": "base",
   "language": "python",
   "name": "python3"
  },
  "language_info": {
   "codemirror_mode": {
    "name": "ipython",
    "version": 3
   },
   "file_extension": ".py",
   "mimetype": "text/x-python",
   "name": "python",
   "nbconvert_exporter": "python",
   "pygments_lexer": "ipython3",
   "version": "3.8.8"
  },
  "orig_nbformat": 4
 },
 "nbformat": 4,
 "nbformat_minor": 2
}
