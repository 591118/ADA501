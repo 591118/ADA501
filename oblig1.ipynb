{
 "cells": [
  {
   "cell_type": "markdown",
   "metadata": {},
   "source": [
    "Installere forskjellige pakker - fjern # for å ta inn linjen"
   ]
  },
  {
   "cell_type": "code",
   "execution_count": 1,
   "metadata": {},
   "outputs": [],
   "source": [
    "# %pip install sympy"
   ]
  },
  {
   "cell_type": "markdown",
   "metadata": {},
   "source": [
    "Bruker sympy"
   ]
  },
  {
   "cell_type": "code",
   "execution_count": 2,
   "metadata": {},
   "outputs": [],
   "source": [
    "import sympy as sp\n",
    "import pandas as pd\n",
    "import numpy as np\n",
    "from scipy.linalg import eigvals"
   ]
  },
  {
   "cell_type": "markdown",
   "metadata": {},
   "source": [
    "## Oppgave 1A"
   ]
  },
  {
   "cell_type": "markdown",
   "metadata": {},
   "source": [
    "Definerer en funksjon som tar inn funksjon, og retrunerer partiell derivert og gradienten"
   ]
  },
  {
   "cell_type": "code",
   "execution_count": 3,
   "metadata": {},
   "outputs": [],
   "source": [
    "# Define symbolic variables\n",
    "x, y = sp.symbols('x y')\n",
    "variables = [x, y]"
   ]
  },
  {
   "cell_type": "markdown",
   "metadata": {},
   "source": [
    "Definerer funskjonene"
   ]
  },
  {
   "cell_type": "code",
   "execution_count": 4,
   "metadata": {},
   "outputs": [],
   "source": [
    "def F(x, y):\n",
    "    return 3*x**2 + 2*x*y + 4*y**2 - 6*x - 8*y + 5\n",
    "\n",
    "def G(x, y):\n",
    "    return (x**2 + 3*y**2)**2 - 2*x*y"
   ]
  },
  {
   "cell_type": "code",
   "execution_count": 5,
   "metadata": {},
   "outputs": [],
   "source": [
    "def calculate_first_derivatives(f, variables):\n",
    "    derivatives = [sp.diff(f, var) for var in variables]\n",
    "    return derivatives"
   ]
  },
  {
   "cell_type": "code",
   "execution_count": 6,
   "metadata": {},
   "outputs": [],
   "source": [
    "def calculate_gradient(f, variables):\n",
    "    return calculate_first_derivatives(f, variables)"
   ]
  },
  {
   "cell_type": "code",
   "execution_count": 7,
   "metadata": {},
   "outputs": [],
   "source": [
    "def calculate_hessian_matrix(f, variables):\n",
    "    hessian_matrix = sp.Matrix([[sp.diff(sp.diff(f, var1), var2) for var1 in variables] for var2 in variables])\n",
    "    return hessian_matrix"
   ]
  },
  {
   "cell_type": "code",
   "execution_count": 8,
   "metadata": {},
   "outputs": [],
   "source": [
    "def find_critical_points(hessian_matrix, variables):\n",
    "    critical_points = []\n",
    "    solutions = sp.solve(hessian_matrix.det(), variables)\n",
    "    for solution in solutions:\n",
    "        critical_point = {}\n",
    "        for var, val in zip(variables, solution):\n",
    "            critical_point[var] = val\n",
    "        critical_points.append(critical_point)\n",
    "    return critical_points"
   ]
  },
  {
   "cell_type": "code",
   "execution_count": 9,
   "metadata": {},
   "outputs": [],
   "source": [
    "def classify_critical_points(hessian_matrix):\n",
    "    classifications = []\n",
    "    for eigval in hessian_matrix.eigenvals():\n",
    "        if eigval.is_real:\n",
    "            if eigval > 0:\n",
    "                classifications.append(\"Minimum\")\n",
    "            elif eigval < 0:\n",
    "                classifications.append(\"Maximum\")\n",
    "            else:\n",
    "                classifications.append(\"Saddle Point\")\n",
    "        else:\n",
    "            classifications.append(\"Complex Eigenvalues (Saddle Point)\")\n",
    "    return classifications"
   ]
  },
  {
   "cell_type": "code",
   "execution_count": 10,
   "metadata": {},
   "outputs": [
    {
     "name": "stdout",
     "output_type": "stream",
     "text": [
      "First Derivatives of F: [6*x + 2*y - 6, 2*x + 8*y - 8]\n",
      "Gradient of F: [6*x + 2*y - 6, 2*x + 8*y - 8]\n",
      "Hessian Matrix of F: Matrix([[6, 2], [2, 8]])\n",
      "Critical Points of F: []\n",
      "Classification of Critical Points of F: ['Minimum', 'Minimum']\n"
     ]
    }
   ],
   "source": [
    "# Example usage for function F\n",
    "# Calculate first derivatives\n",
    "first_derivatives_F = calculate_first_derivatives(F(x, y), variables)\n",
    "print(\"First Derivatives of F:\", first_derivatives_F)\n",
    "\n",
    "# Calculate gradient\n",
    "gradient_F = calculate_gradient(F(x, y), variables)\n",
    "print(\"Gradient of F:\", gradient_F)\n",
    "\n",
    "# Calculate Hessian matrix\n",
    "hessian_matrix_F = calculate_hessian_matrix(F(x, y), variables)\n",
    "print(\"Hessian Matrix of F:\", hessian_matrix_F)\n",
    "\n",
    "# Find critical points\n",
    "critical_points_F = find_critical_points(hessian_matrix_F, variables)\n",
    "print(\"Critical Points of F:\", critical_points_F)\n",
    "\n",
    "# Classify critical points\n",
    "classifications_F = classify_critical_points(hessian_matrix_F)\n",
    "print(\"Classification of Critical Points of F:\", classifications_F)\n",
    "\n",
    "# Example usage for function G\n",
    "# (Repeat the same process as above, replacing F with G)\n",
    "\n"
   ]
  },
  {
   "cell_type": "code",
   "execution_count": 11,
   "metadata": {},
   "outputs": [
    {
     "name": "stdout",
     "output_type": "stream",
     "text": [
      "First Derivatives of F: [4*x*(x**2 + 3*y**2) - 2*y, -2*x + 12*y*(x**2 + 3*y**2)]\n",
      "Gradient of F: [4*x*(x**2 + 3*y**2) - 2*y, -2*x + 12*y*(x**2 + 3*y**2)]\n",
      "Hessian Matrix of F: Matrix([[12*x**2 + 12*y**2, 24*x*y - 2], [24*x*y - 2, 12*x**2 + 108*y**2]])\n",
      "Critical Points of F: [{x: Piecewise((-sqrt(-4*y**2 - 2*(-2*y**6 + 2*y**2*(9*y**4 - 1/36) - y**2/18)**(1/3))/2 - sqrt(-8*y**2 + 4*y/(3*sqrt(-4*y**2 - 2*(-2*y**6 + 2*y**2*(9*y**4 - 1/36) - y**2/18)**(1/3))) + 2*(-2*y**6 + 2*y**2*(9*y**4 - 1/36) - y**2/18)**(1/3))/2, Eq(y**4, 1/432)), (-sqrt(-4*y**2 - 2*(1/36 - 12*y**4)/(3*(y**6 - y**2*(9*y**4 - 1/36) + y**2/36 + sqrt((1/36 - 12*y**4)**3/27 + (-2*y**6 + 2*y**2*(9*y**4 - 1/36) - y**2/18)**2/4))**(1/3)) + 2*(y**6 - y**2*(9*y**4 - 1/36) + y**2/36 + sqrt((1/36 - 12*y**4)**3/27 + (-2*y**6 + 2*y**2*(9*y**4 - 1/36) - y**2/18)**2/4))**(1/3))/2 - sqrt(-8*y**2 + 4*y/(3*sqrt(-4*y**2 - 2*(1/36 - 12*y**4)/(3*(y**6 - y**2*(9*y**4 - 1/36) + y**2/36 + sqrt((1/36 - 12*y**4)**3/27 + (-2*y**6 + 2*y**2*(9*y**4 - 1/36) - y**2/18)**2/4))**(1/3)) + 2*(y**6 - y**2*(9*y**4 - 1/36) + y**2/36 + sqrt((1/36 - 12*y**4)**3/27 + (-2*y**6 + 2*y**2*(9*y**4 - 1/36) - y**2/18)**2/4))**(1/3))) + 2*(1/36 - 12*y**4)/(3*(y**6 - y**2*(9*y**4 - 1/36) + y**2/36 + sqrt((1/36 - 12*y**4)**3/27 + (-2*y**6 + 2*y**2*(9*y**4 - 1/36) - y**2/18)**2/4))**(1/3)) - 2*(y**6 - y**2*(9*y**4 - 1/36) + y**2/36 + sqrt((1/36 - 12*y**4)**3/27 + (-2*y**6 + 2*y**2*(9*y**4 - 1/36) - y**2/18)**2/4))**(1/3))/2, True)), y: y}, {x: Piecewise((-sqrt(-4*y**2 - 2*(-2*y**6 + 2*y**2*(9*y**4 - 1/36) - y**2/18)**(1/3))/2 + sqrt(-8*y**2 + 4*y/(3*sqrt(-4*y**2 - 2*(-2*y**6 + 2*y**2*(9*y**4 - 1/36) - y**2/18)**(1/3))) + 2*(-2*y**6 + 2*y**2*(9*y**4 - 1/36) - y**2/18)**(1/3))/2, Eq(y**4, 1/432)), (-sqrt(-4*y**2 - 2*(1/36 - 12*y**4)/(3*(y**6 - y**2*(9*y**4 - 1/36) + y**2/36 + sqrt((1/36 - 12*y**4)**3/27 + (-2*y**6 + 2*y**2*(9*y**4 - 1/36) - y**2/18)**2/4))**(1/3)) + 2*(y**6 - y**2*(9*y**4 - 1/36) + y**2/36 + sqrt((1/36 - 12*y**4)**3/27 + (-2*y**6 + 2*y**2*(9*y**4 - 1/36) - y**2/18)**2/4))**(1/3))/2 + sqrt(-8*y**2 + 4*y/(3*sqrt(-4*y**2 - 2*(1/36 - 12*y**4)/(3*(y**6 - y**2*(9*y**4 - 1/36) + y**2/36 + sqrt((1/36 - 12*y**4)**3/27 + (-2*y**6 + 2*y**2*(9*y**4 - 1/36) - y**2/18)**2/4))**(1/3)) + 2*(y**6 - y**2*(9*y**4 - 1/36) + y**2/36 + sqrt((1/36 - 12*y**4)**3/27 + (-2*y**6 + 2*y**2*(9*y**4 - 1/36) - y**2/18)**2/4))**(1/3))) + 2*(1/36 - 12*y**4)/(3*(y**6 - y**2*(9*y**4 - 1/36) + y**2/36 + sqrt((1/36 - 12*y**4)**3/27 + (-2*y**6 + 2*y**2*(9*y**4 - 1/36) - y**2/18)**2/4))**(1/3)) - 2*(y**6 - y**2*(9*y**4 - 1/36) + y**2/36 + sqrt((1/36 - 12*y**4)**3/27 + (-2*y**6 + 2*y**2*(9*y**4 - 1/36) - y**2/18)**2/4))**(1/3))/2, True)), y: y}, {x: Piecewise((sqrt(-4*y**2 - 2*(-2*y**6 + 2*y**2*(9*y**4 - 1/36) - y**2/18)**(1/3))/2 - sqrt(-8*y**2 - 4*y/(3*sqrt(-4*y**2 - 2*(-2*y**6 + 2*y**2*(9*y**4 - 1/36) - y**2/18)**(1/3))) + 2*(-2*y**6 + 2*y**2*(9*y**4 - 1/36) - y**2/18)**(1/3))/2, Eq(y**4, 1/432)), (sqrt(-4*y**2 - 2*(1/36 - 12*y**4)/(3*(y**6 - y**2*(9*y**4 - 1/36) + y**2/36 + sqrt((1/36 - 12*y**4)**3/27 + (-2*y**6 + 2*y**2*(9*y**4 - 1/36) - y**2/18)**2/4))**(1/3)) + 2*(y**6 - y**2*(9*y**4 - 1/36) + y**2/36 + sqrt((1/36 - 12*y**4)**3/27 + (-2*y**6 + 2*y**2*(9*y**4 - 1/36) - y**2/18)**2/4))**(1/3))/2 - sqrt(-8*y**2 - 4*y/(3*sqrt(-4*y**2 - 2*(1/36 - 12*y**4)/(3*(y**6 - y**2*(9*y**4 - 1/36) + y**2/36 + sqrt((1/36 - 12*y**4)**3/27 + (-2*y**6 + 2*y**2*(9*y**4 - 1/36) - y**2/18)**2/4))**(1/3)) + 2*(y**6 - y**2*(9*y**4 - 1/36) + y**2/36 + sqrt((1/36 - 12*y**4)**3/27 + (-2*y**6 + 2*y**2*(9*y**4 - 1/36) - y**2/18)**2/4))**(1/3))) + 2*(1/36 - 12*y**4)/(3*(y**6 - y**2*(9*y**4 - 1/36) + y**2/36 + sqrt((1/36 - 12*y**4)**3/27 + (-2*y**6 + 2*y**2*(9*y**4 - 1/36) - y**2/18)**2/4))**(1/3)) - 2*(y**6 - y**2*(9*y**4 - 1/36) + y**2/36 + sqrt((1/36 - 12*y**4)**3/27 + (-2*y**6 + 2*y**2*(9*y**4 - 1/36) - y**2/18)**2/4))**(1/3))/2, True)), y: y}, {x: Piecewise((sqrt(-4*y**2 - 2*(-2*y**6 + 2*y**2*(9*y**4 - 1/36) - y**2/18)**(1/3))/2 + sqrt(-8*y**2 - 4*y/(3*sqrt(-4*y**2 - 2*(-2*y**6 + 2*y**2*(9*y**4 - 1/36) - y**2/18)**(1/3))) + 2*(-2*y**6 + 2*y**2*(9*y**4 - 1/36) - y**2/18)**(1/3))/2, Eq(y**4, 1/432)), (sqrt(-4*y**2 - 2*(1/36 - 12*y**4)/(3*(y**6 - y**2*(9*y**4 - 1/36) + y**2/36 + sqrt((1/36 - 12*y**4)**3/27 + (-2*y**6 + 2*y**2*(9*y**4 - 1/36) - y**2/18)**2/4))**(1/3)) + 2*(y**6 - y**2*(9*y**4 - 1/36) + y**2/36 + sqrt((1/36 - 12*y**4)**3/27 + (-2*y**6 + 2*y**2*(9*y**4 - 1/36) - y**2/18)**2/4))**(1/3))/2 + sqrt(-8*y**2 - 4*y/(3*sqrt(-4*y**2 - 2*(1/36 - 12*y**4)/(3*(y**6 - y**2*(9*y**4 - 1/36) + y**2/36 + sqrt((1/36 - 12*y**4)**3/27 + (-2*y**6 + 2*y**2*(9*y**4 - 1/36) - y**2/18)**2/4))**(1/3)) + 2*(y**6 - y**2*(9*y**4 - 1/36) + y**2/36 + sqrt((1/36 - 12*y**4)**3/27 + (-2*y**6 + 2*y**2*(9*y**4 - 1/36) - y**2/18)**2/4))**(1/3))) + 2*(1/36 - 12*y**4)/(3*(y**6 - y**2*(9*y**4 - 1/36) + y**2/36 + sqrt((1/36 - 12*y**4)**3/27 + (-2*y**6 + 2*y**2*(9*y**4 - 1/36) - y**2/18)**2/4))**(1/3)) - 2*(y**6 - y**2*(9*y**4 - 1/36) + y**2/36 + sqrt((1/36 - 12*y**4)**3/27 + (-2*y**6 + 2*y**2*(9*y**4 - 1/36) - y**2/18)**2/4))**(1/3))/2, True)), y: y}]\n",
      "Classification of Critical Points of F: ['Complex Eigenvalues (Saddle Point)', 'Complex Eigenvalues (Saddle Point)']\n"
     ]
    }
   ],
   "source": [
    "# Example usage for function F\n",
    "# Calculate first derivatives\n",
    "first_derivatives_G = calculate_first_derivatives(G(x, y), variables)\n",
    "print(\"First Derivatives of F:\", first_derivatives_G)\n",
    "\n",
    "# Calculate gradient\n",
    "gradient_G = calculate_gradient(G(x, y), variables)\n",
    "print(\"Gradient of F:\", gradient_G)\n",
    "\n",
    "# Calculate Hessian matrix\n",
    "hessian_matrix_G = calculate_hessian_matrix(G(x, y), variables)\n",
    "print(\"Hessian Matrix of F:\", hessian_matrix_G)\n",
    "\n",
    "# Find critical points\n",
    "critical_points_G = find_critical_points(hessian_matrix_G, variables)\n",
    "print(\"Critical Points of F:\", critical_points_G)\n",
    "\n",
    "# Classify critical points\n",
    "classifications_G = classify_critical_points(hessian_matrix_G)\n",
    "print(\"Classification of Critical Points of F:\", classifications_G)"
   ]
  },
  {
   "cell_type": "markdown",
   "metadata": {},
   "source": [
    "## Oppgave 2"
   ]
  },
  {
   "cell_type": "markdown",
   "metadata": {},
   "source": [
    "## Oppgave 3"
   ]
  },
  {
   "cell_type": "code",
   "execution_count": 185,
   "metadata": {},
   "outputs": [],
   "source": [
    "import pandas as pd\n",
    "import numpy as np\n",
    "import matplotlib.pyplot as plt\n",
    "from scipy.optimize import curve_fit"
   ]
  },
  {
   "cell_type": "code",
   "execution_count": 186,
   "metadata": {},
   "outputs": [],
   "source": [
    "svalbard = pd.read_excel(\"svalbard_met.xlsx\")\n",
    "svalbard = svalbard.dropna()"
   ]
  },
  {
   "cell_type": "markdown",
   "metadata": {},
   "source": [
    "datacleaning"
   ]
  },
  {
   "cell_type": "code",
   "execution_count": 187,
   "metadata": {},
   "outputs": [
    {
     "data": {
      "text/html": [
       "<div>\n",
       "<style scoped>\n",
       "    .dataframe tbody tr th:only-of-type {\n",
       "        vertical-align: middle;\n",
       "    }\n",
       "\n",
       "    .dataframe tbody tr th {\n",
       "        vertical-align: top;\n",
       "    }\n",
       "\n",
       "    .dataframe thead th {\n",
       "        text-align: right;\n",
       "    }\n",
       "</style>\n",
       "<table border=\"1\" class=\"dataframe\">\n",
       "  <thead>\n",
       "    <tr style=\"text-align: right;\">\n",
       "      <th></th>\n",
       "      <th>dato</th>\n",
       "      <th>temp</th>\n",
       "    </tr>\n",
       "  </thead>\n",
       "  <tbody>\n",
       "    <tr>\n",
       "      <th>1336</th>\n",
       "      <td>2010-01-01</td>\n",
       "      <td>-7.2</td>\n",
       "    </tr>\n",
       "    <tr>\n",
       "      <th>1337</th>\n",
       "      <td>2010-02-01</td>\n",
       "      <td>-10.3</td>\n",
       "    </tr>\n",
       "    <tr>\n",
       "      <th>1338</th>\n",
       "      <td>2010-03-01</td>\n",
       "      <td>-15.8</td>\n",
       "    </tr>\n",
       "    <tr>\n",
       "      <th>1339</th>\n",
       "      <td>2010-04-01</td>\n",
       "      <td>-7.7</td>\n",
       "    </tr>\n",
       "    <tr>\n",
       "      <th>1340</th>\n",
       "      <td>2010-05-01</td>\n",
       "      <td>0.0</td>\n",
       "    </tr>\n",
       "    <tr>\n",
       "      <th>...</th>\n",
       "      <td>...</td>\n",
       "      <td>...</td>\n",
       "    </tr>\n",
       "    <tr>\n",
       "      <th>1463</th>\n",
       "      <td>2020-08-01</td>\n",
       "      <td>7.2</td>\n",
       "    </tr>\n",
       "    <tr>\n",
       "      <th>1464</th>\n",
       "      <td>2020-09-01</td>\n",
       "      <td>3.2</td>\n",
       "    </tr>\n",
       "    <tr>\n",
       "      <th>1465</th>\n",
       "      <td>2020-10-01</td>\n",
       "      <td>-2.2</td>\n",
       "    </tr>\n",
       "    <tr>\n",
       "      <th>1466</th>\n",
       "      <td>2020-11-01</td>\n",
       "      <td>-2.9</td>\n",
       "    </tr>\n",
       "    <tr>\n",
       "      <th>1467</th>\n",
       "      <td>2020-12-01</td>\n",
       "      <td>-7.0</td>\n",
       "    </tr>\n",
       "  </tbody>\n",
       "</table>\n",
       "<p>132 rows × 2 columns</p>\n",
       "</div>"
      ],
      "text/plain": [
       "           dato  temp\n",
       "1336 2010-01-01  -7.2\n",
       "1337 2010-02-01 -10.3\n",
       "1338 2010-03-01 -15.8\n",
       "1339 2010-04-01  -7.7\n",
       "1340 2010-05-01   0.0\n",
       "...         ...   ...\n",
       "1463 2020-08-01   7.2\n",
       "1464 2020-09-01   3.2\n",
       "1465 2020-10-01  -2.2\n",
       "1466 2020-11-01  -2.9\n",
       "1467 2020-12-01  -7.0\n",
       "\n",
       "[132 rows x 2 columns]"
      ]
     },
     "execution_count": 187,
     "metadata": {},
     "output_type": "execute_result"
    }
   ],
   "source": [
    "df = svalbard.rename(columns={'Tid(norsk normaltid)': 'dato', 'Homogenisert middeltemperatur (mnd)': 'temp'})[['dato', 'temp']]\n",
    "\n",
    "# Convert the 'dato' column to datetime\n",
    "df['dato'] = pd.to_datetime(df['dato'], errors='coerce')\n",
    "\n",
    "# Filter the DataFrame to keep rows within the specified date range\n",
    "df = df[(df['dato'] >= '2010-01-01') & (df['dato'] <= '2020-12-31')]\n",
    "\n",
    "# df_filtered now contains only rows where 'dato' is between 2010-2020\n",
    "df"
   ]
  },
  {
   "cell_type": "markdown",
   "metadata": {},
   "source": [
    "## Oppgave A"
   ]
  },
  {
   "cell_type": "code",
   "execution_count": 189,
   "metadata": {},
   "outputs": [
    {
     "name": "stderr",
     "output_type": "stream",
     "text": [
      "c:\\Users\\even\\anaconda3\\lib\\site-packages\\scipy\\optimize\\_minpack_py.py:906: OptimizeWarning: Covariance of the parameters could not be estimated\n",
      "  warnings.warn('Covariance of the parameters could not be estimated',\n"
     ]
    },
    {
     "ename": "UFuncTypeError",
     "evalue": "ufunc 'multiply' cannot use operands with types dtype('float64') and dtype('<M8[ns]')",
     "output_type": "error",
     "traceback": [
      "\u001b[1;31m---------------------------------------------------------------------------\u001b[0m",
      "\u001b[1;31mUFuncTypeError\u001b[0m                            Traceback (most recent call last)",
      "Cell \u001b[1;32mIn[189], line 19\u001b[0m\n\u001b[0;32m     16\u001b[0m a0_fit, a1_fit, a2_fit, a3_fit, a4_fit \u001b[39m=\u001b[39m params\n\u001b[0;32m     18\u001b[0m \u001b[39m# Generate fitted data using the model\u001b[39;00m\n\u001b[1;32m---> 19\u001b[0m y_fit \u001b[39m=\u001b[39m extended_model(x_data, a0_fit, a1_fit, a2_fit, a3_fit, a4_fit)\n",
      "Cell \u001b[1;32mIn[189], line 3\u001b[0m, in \u001b[0;36mextended_model\u001b[1;34m(x, a0, a1, a2, a3, a4)\u001b[0m\n\u001b[0;32m      2\u001b[0m \u001b[39mdef\u001b[39;00m \u001b[39mextended_model\u001b[39m(x, a0, a1, a2, a3, a4):\n\u001b[1;32m----> 3\u001b[0m     \u001b[39mreturn\u001b[39;00m a0 \u001b[39m*\u001b[39m np\u001b[39m.\u001b[39msin(a1 \u001b[39m*\u001b[39;49m x \u001b[39m+\u001b[39m a2) \u001b[39m+\u001b[39m a3 \u001b[39m+\u001b[39m a4 \u001b[39m*\u001b[39m x\n",
      "\u001b[1;31mUFuncTypeError\u001b[0m: ufunc 'multiply' cannot use operands with types dtype('float64') and dtype('<M8[ns]')"
     ]
    }
   ],
   "source": [
    "# Define the extended model function\n",
    "def extended_model(x, a0, a1, a2, a3, a4):\n",
    "    return a0 * np.sin(a1 * x + a2) + a3 + a4 * x\n",
    "\n",
    "# Extract the data to be fitted\n",
    "x_data = df['dato'].values\n",
    "y_data = df['temp'].values\n",
    "\n",
    "# Initial guess for the parameters\n",
    "initial_guess = (2, 1, 0.5, 3, 0.1)\n",
    "\n",
    "# Fit the model to the data\n",
    "params, params_covariance = curve_fit(extended_model, x_data, y_data, p0=initial_guess)\n",
    "\n",
    "# Extract the fitted parameters\n",
    "a0_fit, a1_fit, a2_fit, a3_fit, a4_fit = params\n",
    "\n",
    "# Generate fitted data using the model\n",
    "y_fit = extended_model(x_data, a0_fit, a1_fit, a2_fit, a3_fit, a4_fit)"
   ]
  },
  {
   "cell_type": "code",
   "execution_count": null,
   "metadata": {},
   "outputs": [],
   "source": [
    "# Plot the original data and the fitted curve\n",
    "plt.figure(figsize=(8, 6))\n",
    "plt.scatter(x_data, y_data, label='Data')\n",
    "plt.plot(x_data, y_fit, 'r', label='Fitted Curve')\n",
    "plt.xlabel('Year')\n",
    "plt.ylabel('Temperature')\n",
    "plt.legend()\n",
    "plt.show()\n",
    "\n",
    "# Print the fitted parameters\n",
    "print(f\"Fitted Parameters: a0={a0_fit}, a1={a1_fit}, a2={a2_fit}, a3={a3_fit}, a4={a4_fit}\")"
   ]
  },
  {
   "cell_type": "code",
   "execution_count": null,
   "metadata": {},
   "outputs": [],
   "source": []
  }
 ],
 "metadata": {
  "kernelspec": {
   "display_name": "base",
   "language": "python",
   "name": "python3"
  },
  "language_info": {
   "codemirror_mode": {
    "name": "ipython",
    "version": 3
   },
   "file_extension": ".py",
   "mimetype": "text/x-python",
   "name": "python",
   "nbconvert_exporter": "python",
   "pygments_lexer": "ipython3",
   "version": "3.8.8"
  },
  "orig_nbformat": 4
 },
 "nbformat": 4,
 "nbformat_minor": 2
}
