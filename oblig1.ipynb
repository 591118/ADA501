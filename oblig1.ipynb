{
 "cells": [
  {
   "cell_type": "markdown",
   "metadata": {},
   "source": [
    "Installere forskjellige pakker - fjern # for å ta inn linjen"
   ]
  },
  {
   "cell_type": "code",
   "execution_count": 146,
   "metadata": {},
   "outputs": [],
   "source": [
    "# %pip install sympy\n"
   ]
  },
  {
   "cell_type": "markdown",
   "metadata": {},
   "source": [
    "Bruker sympy"
   ]
  },
  {
   "cell_type": "code",
   "execution_count": 160,
   "metadata": {},
   "outputs": [],
   "source": [
    "import sympy as sp\n",
    "import pandas as pd\n",
    "import numpy as np\n",
    "from scipy.linalg import eigvals"
   ]
  },
  {
   "cell_type": "markdown",
   "metadata": {},
   "source": [
    "## Oppgave 1A"
   ]
  },
  {
   "cell_type": "markdown",
   "metadata": {},
   "source": [
    "Definerer en funksjon som tar inn funksjon, og retrunerer partiell derivert og gradienten"
   ]
  },
  {
   "cell_type": "code",
   "execution_count": 148,
   "metadata": {},
   "outputs": [],
   "source": [
    "# Define symbolic variables\n",
    "x, y = sp.symbols('x y')"
   ]
  },
  {
   "cell_type": "markdown",
   "metadata": {},
   "source": [
    "Definerer funskjonene"
   ]
  },
  {
   "cell_type": "code",
   "execution_count": 149,
   "metadata": {},
   "outputs": [],
   "source": [
    "def F(x, y):\n",
    "    return 3*x**2 + 2*x*y + 4*y**2 - 6*x - 8*y + 5\n",
    "\n",
    "def G(x, y):\n",
    "    return (x**2 + 3*y**2)**2 - 2*x*y"
   ]
  },
  {
   "cell_type": "code",
   "execution_count": 150,
   "metadata": {},
   "outputs": [],
   "source": [
    "def compute_partial_derivatives_gradients_hessa(func, vars):\n",
    "    # Create the symbolic function\n",
    "    f = func(x, y)\n",
    "\n",
    "    # Compute partial derivatives\n",
    "    derivatives = [sp.diff(f, var) for var in vars]\n",
    "\n",
    "    # Compute the gradient\n",
    "    gradient = [derivative.subs({x: 0, y: 0}) for derivative in derivatives]\n",
    "\n",
    "    # Compute the Hessian matrix (second derivatives)\n",
    "    hessian = sp.Matrix([[sp.diff(derivative1, var2) for var2 in vars] for derivative1 in derivatives])\n",
    "\n",
    "    return derivatives, gradient, hessian"
   ]
  },
  {
   "cell_type": "markdown",
   "metadata": {},
   "source": [
    "F (x,y) og G(x,y) er gitt av oppgaven"
   ]
  },
  {
   "cell_type": "code",
   "execution_count": 151,
   "metadata": {},
   "outputs": [
    {
     "name": "stdout",
     "output_type": "stream",
     "text": [
      "[6*x + 2*y - 6, 2*x + 8*y - 8]\n",
      "\n",
      "[-6, -8]\n",
      "\n",
      "Matrix([[6, 2], [2, 8]])\n"
     ]
    }
   ],
   "source": [
    "vars = (x, y)\n",
    "\n",
    "derivatives_F, gradient_F, hessa_F = compute_partial_derivatives_gradients_hessa(F, vars)\n",
    "\n",
    "print(derivatives_F)\n",
    "print()\n",
    "print (gradient_F)\n",
    "print()\n",
    "print(hessa_F)"
   ]
  },
  {
   "cell_type": "code",
   "execution_count": 152,
   "metadata": {},
   "outputs": [
    {
     "name": "stdout",
     "output_type": "stream",
     "text": [
      "[4*x*(x**2 + 3*y**2) - 2*y, -2*x + 12*y*(x**2 + 3*y**2)]\n",
      "\n",
      "[0, 0]\n",
      "\n",
      "Matrix([[12*x**2 + 12*y**2, 24*x*y - 2], [24*x*y - 2, 12*x**2 + 108*y**2]])\n"
     ]
    }
   ],
   "source": [
    "derivatives_G, gradient_G , hessa_G= compute_partial_derivatives_gradients_hessa(G, vars)\n",
    "\n",
    "print(derivatives_G)\n",
    "print()\n",
    "print (gradient_G)\n",
    "print()\n",
    "print(hessa_G)"
   ]
  },
  {
   "cell_type": "markdown",
   "metadata": {},
   "source": [
    "## Oppgave B\n",
    "\n",
    "Har funksjonen en minimum, flere eller ingen? Forklar med et teoretisk eller geometrisk argument\n",
    "\n",
    "For å bestemme om en funksjon har et minimum, må vi se på funksjonenes egenskaper\n",
    "\n",
    "Ved å bruke den første deriverte, kan vi identifisere kritiske punkt\n",
    "\n",
    "Det vil være Fx'(x,y) = 0 og Fy'(x,y) = 0, samme for G"
   ]
  },
  {
   "cell_type": "markdown",
   "metadata": {},
   "source": [
    "Funksjonen gir en numpy array tilbake"
   ]
  },
  {
   "cell_type": "code",
   "execution_count": 153,
   "metadata": {},
   "outputs": [],
   "source": [
    "def find_critical_points_fx_fy_zero(derivatives, vars):\n",
    "    fx, fy = derivatives\n",
    "    \n",
    "    # Find critical points where fx = 0 and fy = 0\n",
    "    critical_points = sp.solve([fx, fy], vars)\n",
    "    \n",
    "    return critical_points"
   ]
  },
  {
   "cell_type": "code",
   "execution_count": 154,
   "metadata": {},
   "outputs": [
    {
     "name": "stdout",
     "output_type": "stream",
     "text": [
      "Critical points for F:\n",
      "{x: 8/11, y: 9/11}\n",
      "\n",
      "Critical points for G:\n",
      "[(0, 0), (-3**(3/4)/6, -3**(1/4)/6), (3**(3/4)/6, 3**(1/4)/6), (-3**(3/4)*I/6, 3**(1/4)*I/6), (3**(3/4)*I/6, -3**(1/4)*I/6)]\n"
     ]
    }
   ],
   "source": [
    "critical_points_F = find_critical_points_fx_fy_zero(derivatives_F, (x, y))\n",
    "critical_points_G = find_critical_points_fx_fy_zero(derivatives_G, (x, y))\n",
    "\n",
    "print(\"Critical points for F:\")\n",
    "print(critical_points_F)\n",
    "print()\n",
    "\n",
    "print(\"Critical points for G:\")\n",
    "print(critical_points_G)"
   ]
  },
  {
   "cell_type": "markdown",
   "metadata": {},
   "source": [
    "Det er et kritisk punkt for F, for x og y\n",
    "{x: 8/11, y: 9/11}\n",
    "Kan sjekke\n",
    "\n",
    "G har derimot mange, så det er ikke helt klart hva som er minimum"
   ]
  },
  {
   "cell_type": "markdown",
   "metadata": {},
   "source": [
    "Omgjøring til numpy"
   ]
  },
  {
   "cell_type": "code",
   "execution_count": 155,
   "metadata": {},
   "outputs": [],
   "source": [
    "gradient_F = np.array(gradient_F)\n",
    "hessian_F = np.array(hessa_F)"
   ]
  },
  {
   "cell_type": "markdown",
   "metadata": {},
   "source": [
    "Klassifisere Hessamatrisen"
   ]
  },
  {
   "cell_type": "code",
   "execution_count": 158,
   "metadata": {},
   "outputs": [],
   "source": [
    "def klassifisereMinMaxSaddel(hessa_matrix, gradient):\n",
    "    # Check if the gradient is zero\n",
    "    det_hessian = np.linalg.det(hessa_matrix)\n",
    "\n",
    "    # Check if the gradient is zero and the determinant is positive\n",
    "    if np.all(gradient == 0) and det_hessian > 0:\n",
    "        return \"Local Minimum\"\n",
    "    elif np.all(gradient == 0) and det_hessian < 0:\n",
    "        return \"Local Maximum\"\n",
    "    else:\n",
    "        return \"Saddle Point (Indefinite)\""
   ]
  },
  {
   "cell_type": "code",
   "execution_count": 159,
   "metadata": {},
   "outputs": [
    {
     "ename": "UFuncTypeError",
     "evalue": "Cannot cast ufunc 'det' input from dtype('O') to dtype('float64') with casting rule 'same_kind'",
     "output_type": "error",
     "traceback": [
      "\u001b[1;31m---------------------------------------------------------------------------\u001b[0m",
      "\u001b[1;31mUFuncTypeError\u001b[0m                            Traceback (most recent call last)",
      "Cell \u001b[1;32mIn[159], line 1\u001b[0m\n\u001b[1;32m----> 1\u001b[0m result \u001b[39m=\u001b[39m klassifisereMinMaxSaddel(hessian_F, gradient_F)\n\u001b[0;32m      2\u001b[0m \u001b[39mprint\u001b[39m(result)\n",
      "Cell \u001b[1;32mIn[158], line 3\u001b[0m, in \u001b[0;36mklassifisereMinMaxSaddel\u001b[1;34m(hessa_matrix, gradient)\u001b[0m\n\u001b[0;32m      1\u001b[0m \u001b[39mdef\u001b[39;00m \u001b[39mklassifisereMinMaxSaddel\u001b[39m(hessa_matrix, gradient):\n\u001b[0;32m      2\u001b[0m     \u001b[39m# Check if the gradient is zero\u001b[39;00m\n\u001b[1;32m----> 3\u001b[0m     det_hessian \u001b[39m=\u001b[39m np\u001b[39m.\u001b[39;49mlinalg\u001b[39m.\u001b[39;49mdet(hessa_matrix)\n\u001b[0;32m      5\u001b[0m     \u001b[39m# Check if the gradient is zero and the determinant is positive\u001b[39;00m\n\u001b[0;32m      6\u001b[0m     \u001b[39mif\u001b[39;00m np\u001b[39m.\u001b[39mall(gradient \u001b[39m==\u001b[39m \u001b[39m0\u001b[39m) \u001b[39mand\u001b[39;00m det_hessian \u001b[39m>\u001b[39m \u001b[39m0\u001b[39m:\n",
      "File \u001b[1;32m<__array_function__ internals>:180\u001b[0m, in \u001b[0;36mdet\u001b[1;34m(*args, **kwargs)\u001b[0m\n",
      "File \u001b[1;32mc:\\Users\\even\\anaconda3\\lib\\site-packages\\numpy\\linalg\\linalg.py:2154\u001b[0m, in \u001b[0;36mdet\u001b[1;34m(a)\u001b[0m\n\u001b[0;32m   2152\u001b[0m t, result_t \u001b[39m=\u001b[39m _commonType(a)\n\u001b[0;32m   2153\u001b[0m signature \u001b[39m=\u001b[39m \u001b[39m'\u001b[39m\u001b[39mD->D\u001b[39m\u001b[39m'\u001b[39m \u001b[39mif\u001b[39;00m isComplexType(t) \u001b[39melse\u001b[39;00m \u001b[39m'\u001b[39m\u001b[39md->d\u001b[39m\u001b[39m'\u001b[39m\n\u001b[1;32m-> 2154\u001b[0m r \u001b[39m=\u001b[39m _umath_linalg\u001b[39m.\u001b[39;49mdet(a, signature\u001b[39m=\u001b[39;49msignature)\n\u001b[0;32m   2155\u001b[0m r \u001b[39m=\u001b[39m r\u001b[39m.\u001b[39mastype(result_t, copy\u001b[39m=\u001b[39m\u001b[39mFalse\u001b[39;00m)\n\u001b[0;32m   2156\u001b[0m \u001b[39mreturn\u001b[39;00m r\n",
      "\u001b[1;31mUFuncTypeError\u001b[0m: Cannot cast ufunc 'det' input from dtype('O') to dtype('float64') with casting rule 'same_kind'"
     ]
    }
   ],
   "source": [
    "result = klassifisereMinMaxSaddel(hessian_F, gradient_F)\n",
    "print(result)"
   ]
  },
  {
   "cell_type": "code",
   "execution_count": null,
   "metadata": {},
   "outputs": [],
   "source": []
  },
  {
   "cell_type": "markdown",
   "metadata": {},
   "source": [
    "F - burde ha et minimum siden 3x^2 og 4y^2 har positive fortegn\n",
    "\n",
    "G - har positve verdier (x^2 + 3y^2)^2 , så burde ha bunnpunkter, for å følge den positive verdien 1 og 2 gradsfunksjoner"
   ]
  },
  {
   "cell_type": "markdown",
   "metadata": {},
   "source": [
    "## Oppgave C\n",
    "\n",
    "Finn minimum med klakulasjon (analytisk problemløsning)"
   ]
  },
  {
   "cell_type": "code",
   "execution_count": null,
   "metadata": {},
   "outputs": [],
   "source": []
  },
  {
   "cell_type": "code",
   "execution_count": null,
   "metadata": {},
   "outputs": [],
   "source": []
  },
  {
   "cell_type": "markdown",
   "metadata": {},
   "source": [
    "## Oppgave 2a"
   ]
  },
  {
   "cell_type": "markdown",
   "metadata": {},
   "source": []
  },
  {
   "cell_type": "markdown",
   "metadata": {},
   "source": [
    "## Oppgave 3a"
   ]
  },
  {
   "cell_type": "code",
   "execution_count": 185,
   "metadata": {},
   "outputs": [],
   "source": [
    "import pandas as pd\n",
    "import numpy as np\n",
    "import matplotlib.pyplot as plt\n",
    "from scipy.optimize import curve_fit"
   ]
  },
  {
   "cell_type": "code",
   "execution_count": 186,
   "metadata": {},
   "outputs": [],
   "source": [
    "svalbard = pd.read_excel(\"svalbard_met.xlsx\")\n",
    "svalbard = svalbard.dropna()"
   ]
  },
  {
   "cell_type": "markdown",
   "metadata": {},
   "source": [
    "datacleaning"
   ]
  },
  {
   "cell_type": "code",
   "execution_count": 187,
   "metadata": {},
   "outputs": [
    {
     "data": {
      "text/html": [
       "<div>\n",
       "<style scoped>\n",
       "    .dataframe tbody tr th:only-of-type {\n",
       "        vertical-align: middle;\n",
       "    }\n",
       "\n",
       "    .dataframe tbody tr th {\n",
       "        vertical-align: top;\n",
       "    }\n",
       "\n",
       "    .dataframe thead th {\n",
       "        text-align: right;\n",
       "    }\n",
       "</style>\n",
       "<table border=\"1\" class=\"dataframe\">\n",
       "  <thead>\n",
       "    <tr style=\"text-align: right;\">\n",
       "      <th></th>\n",
       "      <th>dato</th>\n",
       "      <th>temp</th>\n",
       "    </tr>\n",
       "  </thead>\n",
       "  <tbody>\n",
       "    <tr>\n",
       "      <th>1336</th>\n",
       "      <td>2010-01-01</td>\n",
       "      <td>-7.2</td>\n",
       "    </tr>\n",
       "    <tr>\n",
       "      <th>1337</th>\n",
       "      <td>2010-02-01</td>\n",
       "      <td>-10.3</td>\n",
       "    </tr>\n",
       "    <tr>\n",
       "      <th>1338</th>\n",
       "      <td>2010-03-01</td>\n",
       "      <td>-15.8</td>\n",
       "    </tr>\n",
       "    <tr>\n",
       "      <th>1339</th>\n",
       "      <td>2010-04-01</td>\n",
       "      <td>-7.7</td>\n",
       "    </tr>\n",
       "    <tr>\n",
       "      <th>1340</th>\n",
       "      <td>2010-05-01</td>\n",
       "      <td>0.0</td>\n",
       "    </tr>\n",
       "    <tr>\n",
       "      <th>...</th>\n",
       "      <td>...</td>\n",
       "      <td>...</td>\n",
       "    </tr>\n",
       "    <tr>\n",
       "      <th>1463</th>\n",
       "      <td>2020-08-01</td>\n",
       "      <td>7.2</td>\n",
       "    </tr>\n",
       "    <tr>\n",
       "      <th>1464</th>\n",
       "      <td>2020-09-01</td>\n",
       "      <td>3.2</td>\n",
       "    </tr>\n",
       "    <tr>\n",
       "      <th>1465</th>\n",
       "      <td>2020-10-01</td>\n",
       "      <td>-2.2</td>\n",
       "    </tr>\n",
       "    <tr>\n",
       "      <th>1466</th>\n",
       "      <td>2020-11-01</td>\n",
       "      <td>-2.9</td>\n",
       "    </tr>\n",
       "    <tr>\n",
       "      <th>1467</th>\n",
       "      <td>2020-12-01</td>\n",
       "      <td>-7.0</td>\n",
       "    </tr>\n",
       "  </tbody>\n",
       "</table>\n",
       "<p>132 rows × 2 columns</p>\n",
       "</div>"
      ],
      "text/plain": [
       "           dato  temp\n",
       "1336 2010-01-01  -7.2\n",
       "1337 2010-02-01 -10.3\n",
       "1338 2010-03-01 -15.8\n",
       "1339 2010-04-01  -7.7\n",
       "1340 2010-05-01   0.0\n",
       "...         ...   ...\n",
       "1463 2020-08-01   7.2\n",
       "1464 2020-09-01   3.2\n",
       "1465 2020-10-01  -2.2\n",
       "1466 2020-11-01  -2.9\n",
       "1467 2020-12-01  -7.0\n",
       "\n",
       "[132 rows x 2 columns]"
      ]
     },
     "execution_count": 187,
     "metadata": {},
     "output_type": "execute_result"
    }
   ],
   "source": [
    "df = svalbard.rename(columns={'Tid(norsk normaltid)': 'dato', 'Homogenisert middeltemperatur (mnd)': 'temp'})[['dato', 'temp']]\n",
    "\n",
    "# Convert the 'dato' column to datetime\n",
    "df['dato'] = pd.to_datetime(df['dato'], errors='coerce')\n",
    "\n",
    "# Filter the DataFrame to keep rows within the specified date range\n",
    "df = df[(df['dato'] >= '2010-01-01') & (df['dato'] <= '2020-12-31')]\n",
    "\n",
    "# df_filtered now contains only rows where 'dato' is between 2010-2020\n",
    "df"
   ]
  },
  {
   "cell_type": "markdown",
   "metadata": {},
   "source": [
    "## Oppgave A"
   ]
  },
  {
   "cell_type": "code",
   "execution_count": 189,
   "metadata": {},
   "outputs": [
    {
     "name": "stderr",
     "output_type": "stream",
     "text": [
      "c:\\Users\\even\\anaconda3\\lib\\site-packages\\scipy\\optimize\\_minpack_py.py:906: OptimizeWarning: Covariance of the parameters could not be estimated\n",
      "  warnings.warn('Covariance of the parameters could not be estimated',\n"
     ]
    },
    {
     "ename": "UFuncTypeError",
     "evalue": "ufunc 'multiply' cannot use operands with types dtype('float64') and dtype('<M8[ns]')",
     "output_type": "error",
     "traceback": [
      "\u001b[1;31m---------------------------------------------------------------------------\u001b[0m",
      "\u001b[1;31mUFuncTypeError\u001b[0m                            Traceback (most recent call last)",
      "Cell \u001b[1;32mIn[189], line 19\u001b[0m\n\u001b[0;32m     16\u001b[0m a0_fit, a1_fit, a2_fit, a3_fit, a4_fit \u001b[39m=\u001b[39m params\n\u001b[0;32m     18\u001b[0m \u001b[39m# Generate fitted data using the model\u001b[39;00m\n\u001b[1;32m---> 19\u001b[0m y_fit \u001b[39m=\u001b[39m extended_model(x_data, a0_fit, a1_fit, a2_fit, a3_fit, a4_fit)\n",
      "Cell \u001b[1;32mIn[189], line 3\u001b[0m, in \u001b[0;36mextended_model\u001b[1;34m(x, a0, a1, a2, a3, a4)\u001b[0m\n\u001b[0;32m      2\u001b[0m \u001b[39mdef\u001b[39;00m \u001b[39mextended_model\u001b[39m(x, a0, a1, a2, a3, a4):\n\u001b[1;32m----> 3\u001b[0m     \u001b[39mreturn\u001b[39;00m a0 \u001b[39m*\u001b[39m np\u001b[39m.\u001b[39msin(a1 \u001b[39m*\u001b[39;49m x \u001b[39m+\u001b[39m a2) \u001b[39m+\u001b[39m a3 \u001b[39m+\u001b[39m a4 \u001b[39m*\u001b[39m x\n",
      "\u001b[1;31mUFuncTypeError\u001b[0m: ufunc 'multiply' cannot use operands with types dtype('float64') and dtype('<M8[ns]')"
     ]
    }
   ],
   "source": [
    "# Define the extended model function\n",
    "def extended_model(x, a0, a1, a2, a3, a4):\n",
    "    return a0 * np.sin(a1 * x + a2) + a3 + a4 * x\n",
    "\n",
    "# Extract the data to be fitted\n",
    "x_data = df['dato'].values\n",
    "y_data = df['temp'].values\n",
    "\n",
    "# Initial guess for the parameters\n",
    "initial_guess = (2, 1, 0.5, 3, 0.1)\n",
    "\n",
    "# Fit the model to the data\n",
    "params, params_covariance = curve_fit(extended_model, x_data, y_data, p0=initial_guess)\n",
    "\n",
    "# Extract the fitted parameters\n",
    "a0_fit, a1_fit, a2_fit, a3_fit, a4_fit = params\n",
    "\n",
    "# Generate fitted data using the model\n",
    "y_fit = extended_model(x_data, a0_fit, a1_fit, a2_fit, a3_fit, a4_fit)"
   ]
  },
  {
   "cell_type": "code",
   "execution_count": null,
   "metadata": {},
   "outputs": [],
   "source": [
    "# Plot the original data and the fitted curve\n",
    "plt.figure(figsize=(8, 6))\n",
    "plt.scatter(x_data, y_data, label='Data')\n",
    "plt.plot(x_data, y_fit, 'r', label='Fitted Curve')\n",
    "plt.xlabel('Year')\n",
    "plt.ylabel('Temperature')\n",
    "plt.legend()\n",
    "plt.show()\n",
    "\n",
    "# Print the fitted parameters\n",
    "print(f\"Fitted Parameters: a0={a0_fit}, a1={a1_fit}, a2={a2_fit}, a3={a3_fit}, a4={a4_fit}\")"
   ]
  },
  {
   "cell_type": "code",
   "execution_count": null,
   "metadata": {},
   "outputs": [],
   "source": []
  }
 ],
 "metadata": {
  "kernelspec": {
   "display_name": "base",
   "language": "python",
   "name": "python3"
  },
  "language_info": {
   "codemirror_mode": {
    "name": "ipython",
    "version": 3
   },
   "file_extension": ".py",
   "mimetype": "text/x-python",
   "name": "python",
   "nbconvert_exporter": "python",
   "pygments_lexer": "ipython3",
   "version": "3.8.8"
  },
  "orig_nbformat": 4
 },
 "nbformat": 4,
 "nbformat_minor": 2
}
