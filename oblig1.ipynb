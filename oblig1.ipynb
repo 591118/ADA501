{
 "cells": [
  {
   "cell_type": "markdown",
   "metadata": {},
   "source": [
    "Installere forskjellige pakker - fjern # for å ta inn linjen"
   ]
  },
  {
   "cell_type": "code",
   "execution_count": 62,
   "metadata": {},
   "outputs": [],
   "source": [
    "# %pip install sympy"
   ]
  },
  {
   "cell_type": "markdown",
   "metadata": {},
   "source": [
    "Bruker sympy"
   ]
  },
  {
   "cell_type": "code",
   "execution_count": 63,
   "metadata": {},
   "outputs": [],
   "source": [
    "import sympy as sp\n",
    "import pandas as pd\n",
    "import numpy as np\n",
    "import matplotlib.pyplot as plt\n",
    "from scipy.linalg import eigvals\n",
    "from scipy.optimize import curve_fit"
   ]
  },
  {
   "cell_type": "markdown",
   "metadata": {},
   "source": [
    "## Oppgave 1A"
   ]
  },
  {
   "cell_type": "markdown",
   "metadata": {},
   "source": [
    "Definerer en funksjon som tar inn funksjon, og retrunerer partiell derivert og gradienten"
   ]
  },
  {
   "cell_type": "code",
   "execution_count": 64,
   "metadata": {},
   "outputs": [],
   "source": [
    "# Define symbolic variables\n",
    "x, y = sp.symbols('x y')\n",
    "variables = [x, y]"
   ]
  },
  {
   "cell_type": "markdown",
   "metadata": {},
   "source": [
    "Definerer funskjonene"
   ]
  },
  {
   "cell_type": "code",
   "execution_count": 65,
   "metadata": {},
   "outputs": [],
   "source": [
    "def F(x, y):\n",
    "    return 3*x**2 + 2*x*y + 4*y**2 - 6*x - 8*y + 5\n",
    "\n",
    "def G(x, y):\n",
    "    return (x**2 + 3*y**2)**2 - 2*x*y"
   ]
  },
  {
   "cell_type": "code",
   "execution_count": 66,
   "metadata": {},
   "outputs": [],
   "source": [
    "def calculate_first_derivatives(f, variables):\n",
    "    derivatives = [sp.diff(f, var) for var in variables]\n",
    "    return derivatives"
   ]
  },
  {
   "cell_type": "code",
   "execution_count": 67,
   "metadata": {},
   "outputs": [],
   "source": [
    "def calculate_gradient(f, variables):\n",
    "    return calculate_first_derivatives(f, variables)"
   ]
  },
  {
   "cell_type": "code",
   "execution_count": 68,
   "metadata": {},
   "outputs": [],
   "source": [
    "def calculate_hessian_matrix(f, variables):\n",
    "    hessian_matrix = sp.Matrix([[sp.diff(sp.diff(f, var1), var2) for var1 in variables] for var2 in variables])\n",
    "    return hessian_matrix"
   ]
  },
  {
   "cell_type": "code",
   "execution_count": 69,
   "metadata": {},
   "outputs": [],
   "source": [
    "def find_critical_points(f, variables):\n",
    "    critical_points = sp.solve(calculate_gradient(f, variables), variables)\n",
    "    return critical_points"
   ]
  },
  {
   "cell_type": "code",
   "execution_count": 70,
   "metadata": {},
   "outputs": [],
   "source": [
    "def classify_critical_points(hessian_matrix):\n",
    "    classifications = []\n",
    "    for eigval in hessian_matrix.eigenvals():\n",
    "        if eigval.is_real:\n",
    "            if eigval > 0:\n",
    "                classifications.append(\"Minimum\")\n",
    "            elif eigval < 0:\n",
    "                classifications.append(\"Maximum\")\n",
    "            else:\n",
    "                classifications.append(\"Saddle Point\")\n",
    "        else:\n",
    "            classifications.append(\"Complex Eigenvalues (Saddle Point)\")\n",
    "    return classifications"
   ]
  },
  {
   "cell_type": "code",
   "execution_count": 71,
   "metadata": {},
   "outputs": [
    {
     "name": "stdout",
     "output_type": "stream",
     "text": [
      "First Derivatives of F: [6*x + 2*y - 6, 2*x + 8*y - 8]\n",
      "Gradient of F: [6*x + 2*y - 6, 2*x + 8*y - 8]\n",
      "Hessian Matrix of F: Matrix([[6, 2], [2, 8]])\n",
      "Critical Points of F: []\n",
      "Classification of Critical Points of F: ['Minimum', 'Minimum']\n"
     ]
    }
   ],
   "source": [
    "# Example usage for function F\n",
    "# Calculate first derivatives\n",
    "first_derivatives_F = calculate_first_derivatives(F(x, y), variables)\n",
    "print(\"First Derivatives of F:\", first_derivatives_F)\n",
    "\n",
    "# Calculate gradient\n",
    "gradient_F = calculate_gradient(F(x, y), variables)\n",
    "print(\"Gradient of F:\", gradient_F)\n",
    "\n",
    "# Calculate Hessian matrix\n",
    "hessian_matrix_F = calculate_hessian_matrix(F(x, y), variables)\n",
    "print(\"Hessian Matrix of F:\", hessian_matrix_F)\n",
    "\n",
    "# Find critical points\n",
    "critical_points_F = find_critical_points(hessian_matrix_F, variables)\n",
    "print(\"Critical Points of F:\", critical_points_F)\n",
    "\n",
    "# Classify critical points\n",
    "classifications_F = classify_critical_points(hessian_matrix_F)\n",
    "print(\"Classification of Critical Points of F:\", classifications_F)\n",
    "\n",
    "# Example usage for function G\n",
    "# (Repeat the same process as above, replacing F with G)\n",
    "\n"
   ]
  },
  {
   "cell_type": "code",
   "execution_count": 72,
   "metadata": {},
   "outputs": [
    {
     "name": "stdout",
     "output_type": "stream",
     "text": [
      "First Derivatives of G: [4*x*(x**2 + 3*y**2) - 2*y, -2*x + 12*y*(x**2 + 3*y**2)]\n",
      "Gradient of G: [4*x*(x**2 + 3*y**2) - 2*y, -2*x + 12*y*(x**2 + 3*y**2)]\n",
      "Hessian Matrix of G: Matrix([[12*x**2 + 12*y**2, 24*x*y - 2], [24*x*y - 2, 12*x**2 + 108*y**2]])\n",
      "Critical Points of G: {x: 0, y: 0}\n",
      "Classification of Critical Points of G: ['Complex Eigenvalues (Saddle Point)', 'Complex Eigenvalues (Saddle Point)']\n"
     ]
    }
   ],
   "source": [
    "# Example usage for function F\n",
    "# Calculate first derivatives\n",
    "first_derivatives_G = calculate_first_derivatives(G(x, y), variables)\n",
    "print(\"First Derivatives of G:\", first_derivatives_G)\n",
    "\n",
    "# Calculate gradient\n",
    "gradient_G = calculate_gradient(G(x, y), variables)\n",
    "print(\"Gradient of G:\", gradient_G)\n",
    "\n",
    "# Calculate Hessian matrix\n",
    "hessian_matrix_G = calculate_hessian_matrix(G(x, y), variables)\n",
    "print(\"Hessian Matrix of G:\", hessian_matrix_G)\n",
    "\n",
    "# Find critical points\n",
    "critical_points_G = find_critical_points(hessian_matrix_G, variables)\n",
    "print(\"Critical Points of G:\", critical_points_G)\n",
    "\n",
    "# Classify critical points\n",
    "classifications_G = classify_critical_points(hessian_matrix_G)\n",
    "print(\"Classification of Critical Points of G:\", classifications_G)"
   ]
  },
  {
   "cell_type": "markdown",
   "metadata": {},
   "source": [
    "Forklaring"
   ]
  },
  {
   "cell_type": "markdown",
   "metadata": {},
   "source": [
    "## Oppgave 2"
   ]
  },
  {
   "cell_type": "code",
   "execution_count": 73,
   "metadata": {},
   "outputs": [
    {
     "name": "stdout",
     "output_type": "stream",
     "text": [
      "DataFrame:\n",
      "    m   n   o   p  other\n",
      "A  11   7   5  13      0\n",
      "B  21  23  10  11     35\n",
      "C   0   5  15  20     25\n",
      "D  12   0  23  17     13\n",
      "E  56  65  47  39     27\n",
      "\n",
      "NumPy Array:\n",
      "[[11  7  5 13  0]\n",
      " [21 23 10 11 35]\n",
      " [ 0  5 15 20 25]\n",
      " [12  0 23 17 13]\n",
      " [56 65 47 39 27]]\n"
     ]
    }
   ],
   "source": [
    "data = np.array([\n",
    "    [11, 7, 5, 13, 0],\n",
    "    [21, 23, 10, 11, 35],\n",
    "    [0, 5, 15, 20, 25],\n",
    "    [12, 0, 23, 17, 13],\n",
    "    [56, 65, 47, 39, 27]\n",
    "])\n",
    "\n",
    "# Define row and column labels\n",
    "row_labels = ['A', 'B', 'C', 'D', 'E']\n",
    "column_labels = ['m', 'n', 'o', 'p', 'other']\n",
    "\n",
    "# Create a DataFrame\n",
    "df = pd.DataFrame(data, index=row_labels, columns=column_labels)\n",
    "\n",
    "# Create a NumPy array from the DataFrame\n",
    "numpy_array = df.to_numpy()\n",
    "\n",
    "# Print the DataFrame\n",
    "print(\"DataFrame:\")\n",
    "print(df)\n",
    "\n",
    "# Print the NumPy array\n",
    "print(\"\\nNumPy Array:\")\n",
    "print(numpy_array)\n",
    "\n"
   ]
  },
  {
   "cell_type": "markdown",
   "metadata": {},
   "source": [
    "CHATGPT produserte opp matrisen, kan velge mellom numpy og dataframe"
   ]
  },
  {
   "cell_type": "code",
   "execution_count": null,
   "metadata": {},
   "outputs": [],
   "source": []
  },
  {
   "cell_type": "markdown",
   "metadata": {},
   "source": [
    "## Oppgave c\n",
    "\n",
    "jaujau"
   ]
  },
  {
   "cell_type": "markdown",
   "metadata": {},
   "source": [
    "## Oppgave 3"
   ]
  },
  {
   "cell_type": "code",
   "execution_count": 74,
   "metadata": {},
   "outputs": [],
   "source": [
    "import pandas as pd\n",
    "import numpy as np\n",
    "import matplotlib.pyplot as plt\n",
    "from scipy.optimize import curve_fit"
   ]
  },
  {
   "cell_type": "code",
   "execution_count": 75,
   "metadata": {},
   "outputs": [],
   "source": [
    "svalbard = pd.read_excel(\"svalbard_met.xlsx\")\n",
    "svalbard = svalbard.dropna()"
   ]
  },
  {
   "cell_type": "markdown",
   "metadata": {},
   "source": [
    "datacleaning"
   ]
  },
  {
   "cell_type": "code",
   "execution_count": 76,
   "metadata": {},
   "outputs": [
    {
     "data": {
      "text/html": [
       "<div>\n",
       "<style scoped>\n",
       "    .dataframe tbody tr th:only-of-type {\n",
       "        vertical-align: middle;\n",
       "    }\n",
       "\n",
       "    .dataframe tbody tr th {\n",
       "        vertical-align: top;\n",
       "    }\n",
       "\n",
       "    .dataframe thead th {\n",
       "        text-align: right;\n",
       "    }\n",
       "</style>\n",
       "<table border=\"1\" class=\"dataframe\">\n",
       "  <thead>\n",
       "    <tr style=\"text-align: right;\">\n",
       "      <th></th>\n",
       "      <th>dato</th>\n",
       "      <th>temp</th>\n",
       "    </tr>\n",
       "  </thead>\n",
       "  <tbody>\n",
       "    <tr>\n",
       "      <th>1336</th>\n",
       "      <td>2010-01-01</td>\n",
       "      <td>-7.2</td>\n",
       "    </tr>\n",
       "    <tr>\n",
       "      <th>1337</th>\n",
       "      <td>2010-02-01</td>\n",
       "      <td>-10.3</td>\n",
       "    </tr>\n",
       "    <tr>\n",
       "      <th>1338</th>\n",
       "      <td>2010-03-01</td>\n",
       "      <td>-15.8</td>\n",
       "    </tr>\n",
       "    <tr>\n",
       "      <th>1339</th>\n",
       "      <td>2010-04-01</td>\n",
       "      <td>-7.7</td>\n",
       "    </tr>\n",
       "    <tr>\n",
       "      <th>1340</th>\n",
       "      <td>2010-05-01</td>\n",
       "      <td>0.0</td>\n",
       "    </tr>\n",
       "    <tr>\n",
       "      <th>...</th>\n",
       "      <td>...</td>\n",
       "      <td>...</td>\n",
       "    </tr>\n",
       "    <tr>\n",
       "      <th>1463</th>\n",
       "      <td>2020-08-01</td>\n",
       "      <td>7.2</td>\n",
       "    </tr>\n",
       "    <tr>\n",
       "      <th>1464</th>\n",
       "      <td>2020-09-01</td>\n",
       "      <td>3.2</td>\n",
       "    </tr>\n",
       "    <tr>\n",
       "      <th>1465</th>\n",
       "      <td>2020-10-01</td>\n",
       "      <td>-2.2</td>\n",
       "    </tr>\n",
       "    <tr>\n",
       "      <th>1466</th>\n",
       "      <td>2020-11-01</td>\n",
       "      <td>-2.9</td>\n",
       "    </tr>\n",
       "    <tr>\n",
       "      <th>1467</th>\n",
       "      <td>2020-12-01</td>\n",
       "      <td>-7.0</td>\n",
       "    </tr>\n",
       "  </tbody>\n",
       "</table>\n",
       "<p>132 rows × 2 columns</p>\n",
       "</div>"
      ],
      "text/plain": [
       "           dato  temp\n",
       "1336 2010-01-01  -7.2\n",
       "1337 2010-02-01 -10.3\n",
       "1338 2010-03-01 -15.8\n",
       "1339 2010-04-01  -7.7\n",
       "1340 2010-05-01   0.0\n",
       "...         ...   ...\n",
       "1463 2020-08-01   7.2\n",
       "1464 2020-09-01   3.2\n",
       "1465 2020-10-01  -2.2\n",
       "1466 2020-11-01  -2.9\n",
       "1467 2020-12-01  -7.0\n",
       "\n",
       "[132 rows x 2 columns]"
      ]
     },
     "execution_count": 76,
     "metadata": {},
     "output_type": "execute_result"
    }
   ],
   "source": [
    "df = svalbard.rename(columns={'Tid(norsk normaltid)': 'dato', 'Homogenisert middeltemperatur (mnd)': 'temp'})[['dato', 'temp']]\n",
    "\n",
    "# Convert the 'dato' column to datetime\n",
    "df['dato'] = pd.to_datetime(df['dato'], errors='coerce')\n",
    "\n",
    "# Filter the DataFrame to keep rows within the specified date range\n",
    "df = df[(df['dato'] >= '2010-01-01') & (df['dato'] <= '2020-12-31')]\n",
    "\n",
    "# df_filtered now contains only rows where 'dato' is between 2010-2020\n",
    "df"
   ]
  },
  {
   "cell_type": "markdown",
   "metadata": {},
   "source": [
    "## Oppgave A\n",
    "\n",
    "For oppgave A bygger vi bare videre modellen med a4*x for trenden"
   ]
  },
  {
   "cell_type": "code",
   "execution_count": 77,
   "metadata": {},
   "outputs": [],
   "source": [
    "# Original sinusoidal model (without the trend)\n",
    "def original_sinusoidal_model(x, a0, a1, a2, a3):\n",
    "    return a0 * np.sin(a1 * x + a2) + a3\n",
    "\n",
    "# Extended sinusoidal model (with the trend)\n",
    "def extended_sinusoidal_model(x, a0, a1, a2, a3, a4):\n",
    "    return a0 * np.sin(a1 * x + a2) + a3 + a4 * x"
   ]
  },
  {
   "cell_type": "code",
   "execution_count": 81,
   "metadata": {},
   "outputs": [],
   "source": [
    "df['dato'] = pd.to_datetime(df['dato'])\n",
    "# Calculate the elapsed time in months (or any other suitable unit)\n",
    "reference_date = df['dato'].min()  # Use the earliest date as a reference\n",
    "df['elapsed_time'] = (df['dato'] - reference_date).dt.days / 30  # Assuming 30 days per month"
   ]
  },
  {
   "cell_type": "code",
   "execution_count": 83,
   "metadata": {},
   "outputs": [],
   "source": [
    "x_data = df['elapsed_time'].values\n",
    "y_data = df['temp'].values"
   ]
  },
  {
   "cell_type": "code",
   "execution_count": 84,
   "metadata": {},
   "outputs": [
    {
     "name": "stdout",
     "output_type": "stream",
     "text": [
      "[  0.           1.03333333   1.96666667   3.           4.\n",
      "   5.03333333   6.03333333   7.06666667   8.1          9.1\n",
      "  10.13333333  11.13333333  12.16666667  13.2         14.13333333\n",
      "  15.16666667  16.16666667  17.2         18.2         19.23333333\n",
      "  20.26666667  21.26666667  22.3         23.3         24.33333333\n",
      "  25.36666667  26.33333333  27.36666667  28.36666667  29.4\n",
      "  30.4         31.43333333  32.46666667  33.46666667  34.5\n",
      "  35.5         36.53333333  37.56666667  38.5         39.53333333\n",
      "  40.53333333  41.56666667  42.56666667  43.6         44.63333333\n",
      "  45.63333333  46.66666667  47.66666667  48.7         49.73333333\n",
      "  50.66666667  51.7         52.7         53.73333333  54.73333333\n",
      "  55.76666667  56.8         57.8         58.83333333  59.83333333\n",
      "  60.86666667  61.9         62.83333333  63.86666667  64.86666667\n",
      "  65.9         66.9         67.93333333  68.96666667  69.96666667\n",
      "  71.          72.          73.03333333  74.06666667  75.03333333\n",
      "  76.06666667  77.06666667  78.1         79.1         80.13333333\n",
      "  81.16666667  82.16666667  83.2         84.2         85.23333333\n",
      "  86.26666667  87.2         88.23333333  89.23333333  90.26666667\n",
      "  91.26666667  92.3         93.33333333  94.33333333  95.36666667\n",
      "  96.36666667  97.4         98.43333333  99.36666667 100.4\n",
      " 101.4        102.43333333 103.43333333 104.46666667 105.5\n",
      " 106.5        107.53333333 108.53333333 109.56666667 110.6\n",
      " 111.53333333 112.56666667 113.56666667 114.6        115.6\n",
      " 116.63333333 117.66666667 118.66666667 119.7        120.7\n",
      " 121.73333333 122.76666667 123.73333333 124.76666667 125.76666667\n",
      " 126.8        127.8        128.83333333 129.86666667 130.86666667\n",
      " 131.9        132.9       ]\n"
     ]
    }
   ],
   "source": [
    "print (x_data)"
   ]
  },
  {
   "cell_type": "code",
   "execution_count": 85,
   "metadata": {},
   "outputs": [
    {
     "data": {
      "image/png": "[encoded data removed]",
      "text/plain": [
       "<Figure size 640x480 with 1 Axes>"
      ]
     },
     "metadata": {},
     "output_type": "display_data"
    },
    {
     "name": "stdout",
     "output_type": "stream",
     "text": [
      "Optimized Parameters:\n",
      "a0: -1.6150182521908434\n",
      "a1: 0.6303415313067007\n",
      "a2: 0.38375894926382165\n",
      "a3: -3.2551898601349785\n",
      "a4: 0.011307097564692458\n"
     ]
    }
   ],
   "source": [
    "# Initial guess for parameter values\n",
    "initial_guess = [1.0, 2 * np.pi / 10, 0, np.mean(y_data), 0.1]\n",
    "\n",
    "# Perform curve fitting using the extended model\n",
    "popt, _ = curve_fit(extended_sinusoidal_model, x_data, y_data, p0=initial_guess)\n",
    "\n",
    "# Extract the optimized parameters\n",
    "a0, a1, a2, a3, a4 = popt\n",
    "\n",
    "# Generate fitted curve using the optimized parameters\n",
    "y_fit = extended_sinusoidal_model(x_data, a0, a1, a2, a3, a4)\n",
    "\n",
    "# Plot the original data and the fitted curve\n",
    "plt.scatter(x_data, y_data, label=\"Original Data\")\n",
    "plt.plot(x_data, y_fit, 'r-', label=\"Fitted Curve\")\n",
    "plt.xlabel(\"Year\")\n",
    "plt.ylabel(\"Temperature\")\n",
    "plt.legend()\n",
    "plt.title(\"Yearly Average Temperature with Trend\")\n",
    "plt.grid(True)\n",
    "plt.show()\n",
    "\n",
    "# Print the optimized parameters\n",
    "print(\"Optimized Parameters:\")\n",
    "print(\"a0:\", a0)\n",
    "print(\"a1:\", a1)\n",
    "print(\"a2:\", a2)\n",
    "print(\"a3:\", a3)\n",
    "print(\"a4:\", a4)"
   ]
  }
 ],
 "metadata": {
  "kernelspec": {
   "display_name": "base",
   "language": "python",
   "name": "python3"
  },
  "language_info": {
   "codemirror_mode": {
    "name": "ipython",
    "version": 3
   },
   "file_extension": ".py",
   "mimetype": "text/x-python",
   "name": "python",
   "nbconvert_exporter": "python",
   "pygments_lexer": "ipython3",
   "version": "3.8.8"
  },
  "orig_nbformat": 4
 },
 "nbformat": 4,
 "nbformat_minor": 2
}
