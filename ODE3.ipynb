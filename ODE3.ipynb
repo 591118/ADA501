{
 "cells": [
  {
   "cell_type": "code",
   "execution_count": 1,
   "metadata": {},
   "outputs": [],
   "source": [
    "import pandas as pd\n",
    "import numpy as np"
   ]
  },
  {
   "cell_type": "markdown",
   "metadata": {},
   "source": [
    "Oppgave a)"
   ]
  },
  {
   "cell_type": "markdown",
   "metadata": {},
   "source": [
    "x = prey\n",
    "y = predator\n",
    "\n",
    "Endringen i x er negativt påvirket av y\n",
    "Endringen i y er negativt påvirket av x\n",
    "\n",
    "dx/dt = αx - βxy: , gir oss at en bestand prey, blir redusert av en faktor beta, som er multiplisert med produktet mellom prey og predator\n",
    "\n",
    "dy/dt = δxy - γy: , gir oss en økende grad av rovdyr gitt antall prey, med en faktor. Reduksjonen kommer av døende rovdyr."
   ]
  },
  {
   "cell_type": "markdown",
   "metadata": {},
   "source": [
    "oppgave b)"
   ]
  },
  {
   "cell_type": "markdown",
   "metadata": {},
   "source": [
    "Orden:      1 orden differensialligning\n",
    "\n",
    "Linær:      Den er ikke linær, fordi de inneholder en produkt av de 2           populasjonene(x og y)\n",
    "\n",
    "Autonom:    Det er autonomt, fordi det er ikke helt avhenig av tid, men avhenig av deres nåverende populasjon\n"
   ]
  },
  {
   "cell_type": "markdown",
   "metadata": {},
   "source": [
    "Oppgave c) "
   ]
  },
  {
   "cell_type": "markdown",
   "metadata": {},
   "source": [
    "In general, the existence and uniqueness of solutions for first-order ODEs like the Lotka-Volterra equations are guaranteed when the equations are Lipschitz continuous with respect to the dependent variables (x and y). The specific conditions for uniqueness can vary depending on the parameters and initial conditions.\n",
    "\n",
    "For typical parameter values, the Lotka-Volterra system can exhibit periodic or oscillatory behavior where the predator and prey populations fluctuate over time. The existence of a unique solution may depend on how the predator and prey populations are initially distributed and the specific parameter values used. There can be multiple solutions or cycles in the system, leading to different outcomes.\n",
    "\n",
    "Therefore, while the existence and uniqueness of solutions can be discussed in a general mathematical context, predicting the behavior of the Lotka-Volterra system and whether a unique solution exists for a given set of initial conditions and parameters would require specific parameter values and a more detailed analysis of the system."
   ]
  }
 ],
 "metadata": {
  "kernelspec": {
   "display_name": "base",
   "language": "python",
   "name": "python3"
  },
  "language_info": {
   "codemirror_mode": {
    "name": "ipython",
    "version": 3
   },
   "file_extension": ".py",
   "mimetype": "text/x-python",
   "name": "python",
   "nbconvert_exporter": "python",
   "pygments_lexer": "ipython3",
   "version": "3.8.8"
  }
 },
 "nbformat": 4,
 "nbformat_minor": 2
}
